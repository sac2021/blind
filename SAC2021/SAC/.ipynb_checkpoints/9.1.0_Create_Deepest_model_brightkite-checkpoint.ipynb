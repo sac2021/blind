{
 "cells": [
  {
   "cell_type": "code",
   "execution_count": null,
   "metadata": {},
   "outputs": [],
   "source": [
    "import pandas as pd\n",
    "import numpy as np\n",
    "import mplleaflet as mpl\n",
    "import traceback\n",
    "import time\n",
    "import gc\n",
    "import os\n",
    "import itertools\n",
    "import collections\n",
    "import itertools\n",
    "from os import path\n",
    "from tqdm import tqdm_notebook as tqdm\n",
    "from glob import glob\n",
    "from joblib import load, dump\n",
    "from pymove.models.Classification import DeepestST as DST\n",
    "from pymove.models import datautils\n",
    "from pymove.core import utils"
   ]
  },
  {
   "cell_type": "markdown",
   "metadata": {},
   "source": [
    "## 1. Read Dataset"
   ]
  },
  {
   "cell_type": "code",
   "execution_count": 1,
   "metadata": {},
   "outputs": [],
   "source": [
    "dataset = 'brightkite/ICTAI' #['fousquare_nyc', 'brightkite', 'foursquare_global', gowalla,'criminal_id', 'criminal_activity']\n",
    "file_train = 'data/{}/_train.csv.gz'.format(dataset)\n",
    "file_val = 'data/{}/_val.csv.gz'.format(dataset)\n",
    "file_test = 'data/{}/_test.csv.gz'.format(dataset)"
   ]
  },
  {
   "cell_type": "code",
   "execution_count": 2,
   "metadata": {},
   "outputs": [
    {
     "ename": "NameError",
     "evalue": "name 'pd' is not defined",
     "output_type": "error",
     "traceback": [
      "\u001b[0;31m---------------------------------------------------------------------------\u001b[0m",
      "\u001b[0;31mNameError\u001b[0m                                 Traceback (most recent call last)",
      "\u001b[0;32m<ipython-input-2-51ecf0749fd5>\u001b[0m in \u001b[0;36m<module>\u001b[0;34m\u001b[0m\n\u001b[0;32m----> 1\u001b[0;31m \u001b[0mdf_train\u001b[0m \u001b[0;34m=\u001b[0m \u001b[0mpd\u001b[0m\u001b[0;34m.\u001b[0m\u001b[0mread_csv\u001b[0m\u001b[0;34m(\u001b[0m\u001b[0mfile_train\u001b[0m\u001b[0;34m)\u001b[0m\u001b[0;34m\u001b[0m\u001b[0;34m\u001b[0m\u001b[0m\n\u001b[0m\u001b[1;32m      2\u001b[0m \u001b[0mdf_val\u001b[0m \u001b[0;34m=\u001b[0m \u001b[0mpd\u001b[0m\u001b[0;34m.\u001b[0m\u001b[0mread_csv\u001b[0m\u001b[0;34m(\u001b[0m\u001b[0mfile_val\u001b[0m\u001b[0;34m)\u001b[0m\u001b[0;31m#\u001b[0m\u001b[0;34m\u001b[0m\u001b[0;34m\u001b[0m\u001b[0m\n\u001b[1;32m      3\u001b[0m \u001b[0mdf_test\u001b[0m \u001b[0;34m=\u001b[0m \u001b[0mpd\u001b[0m\u001b[0;34m.\u001b[0m\u001b[0mread_csv\u001b[0m\u001b[0;34m(\u001b[0m\u001b[0mfile_test\u001b[0m\u001b[0;34m)\u001b[0m\u001b[0;31m#\u001b[0m\u001b[0;34m\u001b[0m\u001b[0;34m\u001b[0m\u001b[0m\n\u001b[1;32m      4\u001b[0m \u001b[0mdf\u001b[0m \u001b[0;34m=\u001b[0m \u001b[0mpd\u001b[0m\u001b[0;34m.\u001b[0m\u001b[0mconcat\u001b[0m\u001b[0;34m(\u001b[0m\u001b[0;34m[\u001b[0m\u001b[0mdf_train\u001b[0m\u001b[0;34m,\u001b[0m \u001b[0mdf_val\u001b[0m\u001b[0;34m,\u001b[0m \u001b[0mdf_test\u001b[0m\u001b[0;34m]\u001b[0m\u001b[0;34m)\u001b[0m\u001b[0;34m\u001b[0m\u001b[0;34m\u001b[0m\u001b[0m\n",
      "\u001b[0;31mNameError\u001b[0m: name 'pd' is not defined"
     ]
    }
   ],
   "source": [
    "df_train = pd.read_csv(file_train)\n",
    "df_val = pd.read_csv(file_val)#\n",
    "df_test = pd.read_csv(file_test)#\n",
    "df = pd.concat([df_train, df_val, df_test])"
   ]
  },
  {
   "cell_type": "code",
   "execution_count": 4,
   "metadata": {},
   "outputs": [],
   "source": [
    "tid_train = df_train['tid'].unique() \n",
    "tid_val = df_val['tid'].unique()\n",
    "tid_test = df_test['tid'].unique()"
   ]
  },
  {
   "cell_type": "code",
   "execution_count": 5,
   "metadata": {},
   "outputs": [
    {
     "data": {
      "text/html": [
       "<div>\n",
       "<style scoped>\n",
       "    .dataframe tbody tr th:only-of-type {\n",
       "        vertical-align: middle;\n",
       "    }\n",
       "\n",
       "    .dataframe tbody tr th {\n",
       "        vertical-align: top;\n",
       "    }\n",
       "\n",
       "    .dataframe thead th {\n",
       "        text-align: right;\n",
       "    }\n",
       "</style>\n",
       "<table border=\"1\" class=\"dataframe\">\n",
       "  <thead>\n",
       "    <tr style=\"text-align: right;\">\n",
       "      <th></th>\n",
       "      <th>tid</th>\n",
       "      <th>label</th>\n",
       "      <th>day</th>\n",
       "      <th>hour</th>\n",
       "      <th>poi</th>\n",
       "      <th>lat</th>\n",
       "      <th>lon</th>\n",
       "      <th>indexgrid10</th>\n",
       "      <th>indexgrid30</th>\n",
       "      <th>indexgrid50</th>\n",
       "      <th>indexgrid100</th>\n",
       "      <th>indexgrid150</th>\n",
       "    </tr>\n",
       "  </thead>\n",
       "  <tbody>\n",
       "    <tr>\n",
       "      <th>0</th>\n",
       "      <td>3314</td>\n",
       "      <td>43</td>\n",
       "      <td>Tuesday</td>\n",
       "      <td>1</td>\n",
       "      <td>637718</td>\n",
       "      <td>39.757421</td>\n",
       "      <td>-105.010453</td>\n",
       "      <td>888352239839</td>\n",
       "      <td>98705955876</td>\n",
       "      <td>35534305329</td>\n",
       "      <td>8883660970</td>\n",
       "      <td>3948302723</td>\n",
       "    </tr>\n",
       "    <tr>\n",
       "      <th>1</th>\n",
       "      <td>3314</td>\n",
       "      <td>43</td>\n",
       "      <td>Tuesday</td>\n",
       "      <td>6</td>\n",
       "      <td>637718</td>\n",
       "      <td>39.757421</td>\n",
       "      <td>-105.010453</td>\n",
       "      <td>888352239839</td>\n",
       "      <td>98705955876</td>\n",
       "      <td>35534305329</td>\n",
       "      <td>8883660970</td>\n",
       "      <td>3948302723</td>\n",
       "    </tr>\n",
       "    <tr>\n",
       "      <th>2</th>\n",
       "      <td>3314</td>\n",
       "      <td>43</td>\n",
       "      <td>Tuesday</td>\n",
       "      <td>16</td>\n",
       "      <td>522216</td>\n",
       "      <td>39.748633</td>\n",
       "      <td>-105.004112</td>\n",
       "      <td>888448676712</td>\n",
       "      <td>98716517995</td>\n",
       "      <td>35538162800</td>\n",
       "      <td>8884625337</td>\n",
       "      <td>3948670096</td>\n",
       "    </tr>\n",
       "    <tr>\n",
       "      <th>3</th>\n",
       "      <td>3314</td>\n",
       "      <td>43</td>\n",
       "      <td>Wednesday</td>\n",
       "      <td>2</td>\n",
       "      <td>771138</td>\n",
       "      <td>39.748521</td>\n",
       "      <td>-105.000087</td>\n",
       "      <td>888510671905</td>\n",
       "      <td>98723406355</td>\n",
       "      <td>35540642614</td>\n",
       "      <td>8885176408</td>\n",
       "      <td>3948945631</td>\n",
       "    </tr>\n",
       "    <tr>\n",
       "      <th>4</th>\n",
       "      <td>3314</td>\n",
       "      <td>43</td>\n",
       "      <td>Wednesday</td>\n",
       "      <td>14</td>\n",
       "      <td>637718</td>\n",
       "      <td>39.757421</td>\n",
       "      <td>-105.010453</td>\n",
       "      <td>888352239839</td>\n",
       "      <td>98705955876</td>\n",
       "      <td>35534305329</td>\n",
       "      <td>8883660970</td>\n",
       "      <td>3948302723</td>\n",
       "    </tr>\n",
       "  </tbody>\n",
       "</table>\n",
       "</div>"
      ],
      "text/plain": [
       "    tid  label        day  hour     poi        lat         lon   indexgrid10  \\\n",
       "0  3314     43    Tuesday     1  637718  39.757421 -105.010453  888352239839   \n",
       "1  3314     43    Tuesday     6  637718  39.757421 -105.010453  888352239839   \n",
       "2  3314     43    Tuesday    16  522216  39.748633 -105.004112  888448676712   \n",
       "3  3314     43  Wednesday     2  771138  39.748521 -105.000087  888510671905   \n",
       "4  3314     43  Wednesday    14  637718  39.757421 -105.010453  888352239839   \n",
       "\n",
       "   indexgrid30  indexgrid50  indexgrid100  indexgrid150  \n",
       "0  98705955876  35534305329    8883660970    3948302723  \n",
       "1  98705955876  35534305329    8883660970    3948302723  \n",
       "2  98716517995  35538162800    8884625337    3948670096  \n",
       "3  98723406355  35540642614    8885176408    3948945631  \n",
       "4  98705955876  35534305329    8883660970    3948302723  "
      ]
     },
     "execution_count": 5,
     "metadata": {},
     "output_type": "execute_result"
    }
   ],
   "source": [
    "df.head()"
   ]
  },
  {
   "cell_type": "markdown",
   "metadata": {},
   "source": [
    "## Get Trajectories"
   ]
  },
  {
   "cell_type": "code",
   "execution_count": 6,
   "metadata": {},
   "outputs": [],
   "source": [
    "label_poi = 'poi'\n",
    "y_one_hot_encodding=True\n",
    "features = ['day','hour', 'poi', 'label', 'tid', 'indexgrid30']\n",
    "data = [df_train[features], df_val[features], df_test[features]]"
   ]
  },
  {
   "cell_type": "code",
   "execution_count": 7,
   "metadata": {},
   "outputs": [
    {
     "name": "stdout",
     "output_type": "stream",
     "text": [
      "\n",
      "\n",
      "###########      DATA PREPARATION        ###########\n",
      "\n",
      "... input total: {input_total}\n",
      "... concat dataframe\n",
      "... tid_0: 4652\n",
      "... tid_1: 997\n",
      "... tid_2: 997\n",
      "... col_name: ['day', 'hour', 'poi', 'label', 'tid', 'indexgrid30']...\n",
      "... num_classes: 197\n",
      "... max_lenght: 150\n",
      "... removing column tid of attr\n",
      "... removing column label of attr\n",
      "\n",
      "\n",
      "#####   Encoding string data to integer   ######\n",
      "... encoding: day\n",
      "... encoding: hour\n",
      "... encoding: poi\n",
      "... encoding: indexgrid30\n",
      "\n",
      "\n",
      "###########      Generating y_train and y_test     ###########\n",
      "... Label encoding on label y\n",
      "... input total: 3\n",
      "\n",
      "--------------------------------------\n",
      "\n",
      "total Time: 1.8206799030303955\n"
     ]
    },
    {
     "name": "stderr",
     "output_type": "stream",
     "text": [
      "/home/nicksson/miniconda3/envs/tnz/lib/python3.7/site-packages/sklearn/preprocessing/_label.py:251: DataConversionWarning: A column-vector y was passed when a 1d array was expected. Please change the shape of y to (n_samples, ), for example using ravel().\n",
      "  y = column_or_1d(y, warn=True)\n"
     ]
    }
   ],
   "source": [
    "X, y, dic_parameters = datautils.generate_X_y_rnn(data=data,\n",
    "                                            features_encoding=True,\n",
    "                                            y_one_hot_encodding=False,\n",
    "                                            label_y='label',\n",
    "                                            label_segment='tid')"
   ]
  },
  {
   "cell_type": "code",
   "execution_count": 8,
   "metadata": {},
   "outputs": [],
   "source": [
    "max_lenght = dic_parameters['max_lenght']\n",
    "num_classes = dic_parameters['num_classes']\n",
    "vocab_size = dic_parameters['vocab_size']\n",
    "features = dic_parameters['features']\n",
    "encode_features = dic_parameters['encode_features']\n",
    "encode_y = dic_parameters['encode_y']\n",
    "#embedding_size = {'day':64, 'hour':64, 'indexgrid30':64, 'poi':64}"
   ]
  },
  {
   "cell_type": "code",
   "execution_count": 9,
   "metadata": {},
   "outputs": [
    {
     "data": {
      "text/plain": [
       "{'max_lenght': 150,\n",
       " 'num_classes': 197,\n",
       " 'encode_features': {'day': LabelEncoder(),\n",
       "  'hour': LabelEncoder(),\n",
       "  'poi': LabelEncoder(),\n",
       "  'indexgrid30': LabelEncoder()},\n",
       " 'encode_y': LabelEncoder(),\n",
       " 'features': ['day', 'hour', 'poi', 'indexgrid30'],\n",
       " 'vocab_size': {'day': 7, 'hour': 24, 'poi': 4085, 'indexgrid30': 3742}}"
      ]
     },
     "execution_count": 9,
     "metadata": {},
     "output_type": "execute_result"
    }
   ],
   "source": [
    "dic_parameters"
   ]
  },
  {
   "cell_type": "code",
   "execution_count": 10,
   "metadata": {},
   "outputs": [],
   "source": [
    "X_train = X[0] \n",
    "X_val = X[1]\n",
    "X_test = X[2]\n",
    "y_train = y[0] \n",
    "y_val = y[1]\n",
    "y_test = y[2]"
   ]
  },
  {
   "cell_type": "markdown",
   "metadata": {},
   "source": [
    "## Experiment focalloss fuction with different alpha and gamma"
   ]
  },
  {
   "cell_type": "code",
   "execution_count": 11,
   "metadata": {},
   "outputs": [],
   "source": [
    "rnn = ['bilstm', 'lstm']\n",
    "units = [100, 200, 300, 400, 500]\n",
    "merge_type = ['concat']\n",
    "dropout_before_rnn=[0, 0.5]\n",
    "dropout_after_rnn=[0.5]\n",
    "\n",
    "embedding_size = [50, 100, 200, 300, 400]\n",
    "batch_size = [64]\n",
    "epochs = [1000]\n",
    "patience = [20]\n",
    "monitor = ['val_acc']\n",
    "\n",
    "optimizer = ['ada']\n",
    "learning_rate = [0.001]\n",
    "loss = ['CCE']\n",
    "loss_parameters = [{}]\n",
    "\n",
    "y_ohe = y_one_hot_encodding"
   ]
  },
  {
   "cell_type": "code",
   "execution_count": 12,
   "metadata": {},
   "outputs": [
    {
     "name": "stdout",
     "output_type": "stream",
     "text": [
      "There are 100 iteration\n"
     ]
    }
   ],
   "source": [
    "total = len(rnn)*len(units)*len(merge_type)*len(dropout_before_rnn)* len(dropout_after_rnn)*\\\n",
    "        len(embedding_size)* len(batch_size) * len(epochs) * len(patience) * len(monitor) *\\\n",
    "        len(optimizer) * len(learning_rate) * len(loss) * len(loss_parameters) \n",
    "print('There are {} iteration'.format(total))"
   ]
  },
  {
   "cell_type": "code",
   "execution_count": 13,
   "metadata": {},
   "outputs": [],
   "source": [
    "dir_file = 'ICTAI/exp2/{}/deepest/validation/'.format(dataset)"
   ]
  },
  {
   "cell_type": "code",
   "execution_count": 14,
   "metadata": {},
   "outputs": [],
   "source": [
    "# deepest = DST.DeepeST(max_lenght=max_lenght,\n",
    "#             num_classes=num_classes,\n",
    "#             vocab_size = vocab_size,\n",
    "#             rnn='lstm',\n",
    "#             rnn_units=100,\n",
    "#             merge_type = 'concat',\n",
    "#             dropout_before_rnn=0.0,\n",
    "#             dropout_after_rnn=0.5,\n",
    "#             embedding_size = 100)"
   ]
  },
  {
   "cell_type": "code",
   "execution_count": 15,
   "metadata": {},
   "outputs": [
    {
     "name": "stderr",
     "output_type": "stream",
     "text": [
      "/home/nicksson/miniconda3/envs/tnz/lib/python3.7/site-packages/ipykernel_launcher.py:5: TqdmDeprecationWarning: This function will be removed in tqdm==5.0.0\n",
      "Please use `tqdm.notebook.tqdm` instead of `tqdm.tqdm_notebook`\n",
      "  \"\"\"\n"
     ]
    },
    {
     "data": {
      "application/vnd.jupyter.widget-view+json": {
       "model_id": "82dedba65f3849428b2ed980e9b37129",
       "version_major": 2,
       "version_minor": 0
      },
      "text/plain": [
       "HBox(children=(FloatProgress(value=0.0), HTML(value='')))"
      ]
     },
     "metadata": {},
     "output_type": "display_data"
    },
    {
     "name": "stdout",
     "output_type": "stream",
     "text": [
      "skip ---> ICTAI/exp2/brightkite/deepest/validation/deepest-bilstm-100-concat-0-0.5-50-64-1000-20-val_acc-ada-0.001-CCE-{}-True-['day', 'hour', 'poi', 'indexgrid30'].csv\n",
      "\n",
      "skip ---> ICTAI/exp2/brightkite/deepest/validation/deepest-bilstm-100-concat-0-0.5-100-64-1000-20-val_acc-ada-0.001-CCE-{}-True-['day', 'hour', 'poi', 'indexgrid30'].csv\n",
      "\n",
      "skip ---> ICTAI/exp2/brightkite/deepest/validation/deepest-bilstm-100-concat-0-0.5-200-64-1000-20-val_acc-ada-0.001-CCE-{}-True-['day', 'hour', 'poi', 'indexgrid30'].csv\n",
      "\n",
      "skip ---> ICTAI/exp2/brightkite/deepest/validation/deepest-bilstm-100-concat-0-0.5-300-64-1000-20-val_acc-ada-0.001-CCE-{}-True-['day', 'hour', 'poi', 'indexgrid30'].csv\n",
      "\n",
      "skip ---> ICTAI/exp2/brightkite/deepest/validation/deepest-bilstm-100-concat-0-0.5-400-64-1000-20-val_acc-ada-0.001-CCE-{}-True-['day', 'hour', 'poi', 'indexgrid30'].csv\n",
      "\n",
      "skip ---> ICTAI/exp2/brightkite/deepest/validation/deepest-bilstm-100-concat-0.5-0.5-50-64-1000-20-val_acc-ada-0.001-CCE-{}-True-['day', 'hour', 'poi', 'indexgrid30'].csv\n",
      "\n",
      "skip ---> ICTAI/exp2/brightkite/deepest/validation/deepest-bilstm-100-concat-0.5-0.5-100-64-1000-20-val_acc-ada-0.001-CCE-{}-True-['day', 'hour', 'poi', 'indexgrid30'].csv\n",
      "\n",
      "skip ---> ICTAI/exp2/brightkite/deepest/validation/deepest-bilstm-100-concat-0.5-0.5-200-64-1000-20-val_acc-ada-0.001-CCE-{}-True-['day', 'hour', 'poi', 'indexgrid30'].csv\n",
      "\n",
      "skip ---> ICTAI/exp2/brightkite/deepest/validation/deepest-bilstm-100-concat-0.5-0.5-300-64-1000-20-val_acc-ada-0.001-CCE-{}-True-['day', 'hour', 'poi', 'indexgrid30'].csv\n",
      "\n",
      "skip ---> ICTAI/exp2/brightkite/deepest/validation/deepest-bilstm-100-concat-0.5-0.5-400-64-1000-20-val_acc-ada-0.001-CCE-{}-True-['day', 'hour', 'poi', 'indexgrid30'].csv\n",
      "\n",
      "skip ---> ICTAI/exp2/brightkite/deepest/validation/deepest-bilstm-200-concat-0-0.5-50-64-1000-20-val_acc-ada-0.001-CCE-{}-True-['day', 'hour', 'poi', 'indexgrid30'].csv\n",
      "\n",
      "skip ---> ICTAI/exp2/brightkite/deepest/validation/deepest-bilstm-200-concat-0-0.5-100-64-1000-20-val_acc-ada-0.001-CCE-{}-True-['day', 'hour', 'poi', 'indexgrid30'].csv\n",
      "\n",
      "skip ---> ICTAI/exp2/brightkite/deepest/validation/deepest-bilstm-200-concat-0-0.5-200-64-1000-20-val_acc-ada-0.001-CCE-{}-True-['day', 'hour', 'poi', 'indexgrid30'].csv\n",
      "\n",
      "skip ---> ICTAI/exp2/brightkite/deepest/validation/deepest-bilstm-200-concat-0-0.5-300-64-1000-20-val_acc-ada-0.001-CCE-{}-True-['day', 'hour', 'poi', 'indexgrid30'].csv\n",
      "\n",
      "skip ---> ICTAI/exp2/brightkite/deepest/validation/deepest-bilstm-200-concat-0-0.5-400-64-1000-20-val_acc-ada-0.001-CCE-{}-True-['day', 'hour', 'poi', 'indexgrid30'].csv\n",
      "\n",
      "skip ---> ICTAI/exp2/brightkite/deepest/validation/deepest-bilstm-200-concat-0.5-0.5-50-64-1000-20-val_acc-ada-0.001-CCE-{}-True-['day', 'hour', 'poi', 'indexgrid30'].csv\n",
      "\n",
      "skip ---> ICTAI/exp2/brightkite/deepest/validation/deepest-bilstm-200-concat-0.5-0.5-100-64-1000-20-val_acc-ada-0.001-CCE-{}-True-['day', 'hour', 'poi', 'indexgrid30'].csv\n",
      "\n",
      "skip ---> ICTAI/exp2/brightkite/deepest/validation/deepest-bilstm-200-concat-0.5-0.5-200-64-1000-20-val_acc-ada-0.001-CCE-{}-True-['day', 'hour', 'poi', 'indexgrid30'].csv\n",
      "\n",
      "skip ---> ICTAI/exp2/brightkite/deepest/validation/deepest-bilstm-200-concat-0.5-0.5-300-64-1000-20-val_acc-ada-0.001-CCE-{}-True-['day', 'hour', 'poi', 'indexgrid30'].csv\n",
      "\n",
      "skip ---> ICTAI/exp2/brightkite/deepest/validation/deepest-bilstm-200-concat-0.5-0.5-400-64-1000-20-val_acc-ada-0.001-CCE-{}-True-['day', 'hour', 'poi', 'indexgrid30'].csv\n",
      "\n",
      "skip ---> ICTAI/exp2/brightkite/deepest/validation/deepest-bilstm-300-concat-0-0.5-50-64-1000-20-val_acc-ada-0.001-CCE-{}-True-['day', 'hour', 'poi', 'indexgrid30'].csv\n",
      "\n",
      "skip ---> ICTAI/exp2/brightkite/deepest/validation/deepest-bilstm-300-concat-0-0.5-100-64-1000-20-val_acc-ada-0.001-CCE-{}-True-['day', 'hour', 'poi', 'indexgrid30'].csv\n",
      "\n",
      "skip ---> ICTAI/exp2/brightkite/deepest/validation/deepest-bilstm-300-concat-0-0.5-200-64-1000-20-val_acc-ada-0.001-CCE-{}-True-['day', 'hour', 'poi', 'indexgrid30'].csv\n",
      "\n",
      "skip ---> ICTAI/exp2/brightkite/deepest/validation/deepest-bilstm-300-concat-0-0.5-300-64-1000-20-val_acc-ada-0.001-CCE-{}-True-['day', 'hour', 'poi', 'indexgrid30'].csv\n",
      "\n",
      "skip ---> ICTAI/exp2/brightkite/deepest/validation/deepest-bilstm-300-concat-0-0.5-400-64-1000-20-val_acc-ada-0.001-CCE-{}-True-['day', 'hour', 'poi', 'indexgrid30'].csv\n",
      "\n",
      "skip ---> ICTAI/exp2/brightkite/deepest/validation/deepest-bilstm-300-concat-0.5-0.5-50-64-1000-20-val_acc-ada-0.001-CCE-{}-True-['day', 'hour', 'poi', 'indexgrid30'].csv\n",
      "\n",
      "skip ---> ICTAI/exp2/brightkite/deepest/validation/deepest-bilstm-300-concat-0.5-0.5-100-64-1000-20-val_acc-ada-0.001-CCE-{}-True-['day', 'hour', 'poi', 'indexgrid30'].csv\n",
      "\n",
      "skip ---> ICTAI/exp2/brightkite/deepest/validation/deepest-bilstm-300-concat-0.5-0.5-200-64-1000-20-val_acc-ada-0.001-CCE-{}-True-['day', 'hour', 'poi', 'indexgrid30'].csv\n",
      "\n",
      "skip ---> ICTAI/exp2/brightkite/deepest/validation/deepest-bilstm-300-concat-0.5-0.5-300-64-1000-20-val_acc-ada-0.001-CCE-{}-True-['day', 'hour', 'poi', 'indexgrid30'].csv\n",
      "\n",
      "skip ---> ICTAI/exp2/brightkite/deepest/validation/deepest-bilstm-300-concat-0.5-0.5-400-64-1000-20-val_acc-ada-0.001-CCE-{}-True-['day', 'hour', 'poi', 'indexgrid30'].csv\n",
      "\n",
      "skip ---> ICTAI/exp2/brightkite/deepest/validation/deepest-bilstm-400-concat-0-0.5-50-64-1000-20-val_acc-ada-0.001-CCE-{}-True-['day', 'hour', 'poi', 'indexgrid30'].csv\n",
      "\n",
      "skip ---> ICTAI/exp2/brightkite/deepest/validation/deepest-bilstm-400-concat-0-0.5-100-64-1000-20-val_acc-ada-0.001-CCE-{}-True-['day', 'hour', 'poi', 'indexgrid30'].csv\n",
      "\n",
      "skip ---> ICTAI/exp2/brightkite/deepest/validation/deepest-bilstm-400-concat-0-0.5-200-64-1000-20-val_acc-ada-0.001-CCE-{}-True-['day', 'hour', 'poi', 'indexgrid30'].csv\n",
      "\n",
      "skip ---> ICTAI/exp2/brightkite/deepest/validation/deepest-bilstm-400-concat-0-0.5-300-64-1000-20-val_acc-ada-0.001-CCE-{}-True-['day', 'hour', 'poi', 'indexgrid30'].csv\n",
      "\n",
      "skip ---> ICTAI/exp2/brightkite/deepest/validation/deepest-bilstm-400-concat-0-0.5-400-64-1000-20-val_acc-ada-0.001-CCE-{}-True-['day', 'hour', 'poi', 'indexgrid30'].csv\n",
      "\n",
      "skip ---> ICTAI/exp2/brightkite/deepest/validation/deepest-bilstm-400-concat-0.5-0.5-50-64-1000-20-val_acc-ada-0.001-CCE-{}-True-['day', 'hour', 'poi', 'indexgrid30'].csv\n",
      "\n",
      "skip ---> ICTAI/exp2/brightkite/deepest/validation/deepest-bilstm-400-concat-0.5-0.5-100-64-1000-20-val_acc-ada-0.001-CCE-{}-True-['day', 'hour', 'poi', 'indexgrid30'].csv\n",
      "\n",
      "skip ---> ICTAI/exp2/brightkite/deepest/validation/deepest-bilstm-400-concat-0.5-0.5-200-64-1000-20-val_acc-ada-0.001-CCE-{}-True-['day', 'hour', 'poi', 'indexgrid30'].csv\n",
      "\n",
      "skip ---> ICTAI/exp2/brightkite/deepest/validation/deepest-bilstm-400-concat-0.5-0.5-300-64-1000-20-val_acc-ada-0.001-CCE-{}-True-['day', 'hour', 'poi', 'indexgrid30'].csv\n",
      "\n",
      "skip ---> ICTAI/exp2/brightkite/deepest/validation/deepest-bilstm-400-concat-0.5-0.5-400-64-1000-20-val_acc-ada-0.001-CCE-{}-True-['day', 'hour', 'poi', 'indexgrid30'].csv\n",
      "\n",
      "skip ---> ICTAI/exp2/brightkite/deepest/validation/deepest-bilstm-500-concat-0-0.5-50-64-1000-20-val_acc-ada-0.001-CCE-{}-True-['day', 'hour', 'poi', 'indexgrid30'].csv\n",
      "\n",
      "skip ---> ICTAI/exp2/brightkite/deepest/validation/deepest-bilstm-500-concat-0-0.5-100-64-1000-20-val_acc-ada-0.001-CCE-{}-True-['day', 'hour', 'poi', 'indexgrid30'].csv\n",
      "\n",
      "skip ---> ICTAI/exp2/brightkite/deepest/validation/deepest-bilstm-500-concat-0-0.5-200-64-1000-20-val_acc-ada-0.001-CCE-{}-True-['day', 'hour', 'poi', 'indexgrid30'].csv\n",
      "\n",
      "skip ---> ICTAI/exp2/brightkite/deepest/validation/deepest-bilstm-500-concat-0-0.5-300-64-1000-20-val_acc-ada-0.001-CCE-{}-True-['day', 'hour', 'poi', 'indexgrid30'].csv\n",
      "\n",
      "skip ---> ICTAI/exp2/brightkite/deepest/validation/deepest-bilstm-500-concat-0-0.5-400-64-1000-20-val_acc-ada-0.001-CCE-{}-True-['day', 'hour', 'poi', 'indexgrid30'].csv\n",
      "\n",
      "skip ---> ICTAI/exp2/brightkite/deepest/validation/deepest-bilstm-500-concat-0.5-0.5-50-64-1000-20-val_acc-ada-0.001-CCE-{}-True-['day', 'hour', 'poi', 'indexgrid30'].csv\n",
      "\n",
      "skip ---> ICTAI/exp2/brightkite/deepest/validation/deepest-bilstm-500-concat-0.5-0.5-100-64-1000-20-val_acc-ada-0.001-CCE-{}-True-['day', 'hour', 'poi', 'indexgrid30'].csv\n",
      "\n",
      "skip ---> ICTAI/exp2/brightkite/deepest/validation/deepest-bilstm-500-concat-0.5-0.5-200-64-1000-20-val_acc-ada-0.001-CCE-{}-True-['day', 'hour', 'poi', 'indexgrid30'].csv\n",
      "\n",
      "skip ---> ICTAI/exp2/brightkite/deepest/validation/deepest-bilstm-500-concat-0.5-0.5-300-64-1000-20-val_acc-ada-0.001-CCE-{}-True-['day', 'hour', 'poi', 'indexgrid30'].csv\n",
      "\n",
      "skip ---> ICTAI/exp2/brightkite/deepest/validation/deepest-bilstm-500-concat-0.5-0.5-400-64-1000-20-val_acc-ada-0.001-CCE-{}-True-['day', 'hour', 'poi', 'indexgrid30'].csv\n",
      "\n",
      "skip ---> ICTAI/exp2/brightkite/deepest/validation/deepest-lstm-100-concat-0-0.5-50-64-1000-20-val_acc-ada-0.001-CCE-{}-True-['day', 'hour', 'poi', 'indexgrid30'].csv\n",
      "\n",
      "skip ---> ICTAI/exp2/brightkite/deepest/validation/deepest-lstm-100-concat-0-0.5-100-64-1000-20-val_acc-ada-0.001-CCE-{}-True-['day', 'hour', 'poi', 'indexgrid30'].csv\n",
      "\n",
      "skip ---> ICTAI/exp2/brightkite/deepest/validation/deepest-lstm-100-concat-0-0.5-200-64-1000-20-val_acc-ada-0.001-CCE-{}-True-['day', 'hour', 'poi', 'indexgrid30'].csv\n",
      "\n",
      "skip ---> ICTAI/exp2/brightkite/deepest/validation/deepest-lstm-100-concat-0-0.5-300-64-1000-20-val_acc-ada-0.001-CCE-{}-True-['day', 'hour', 'poi', 'indexgrid30'].csv\n",
      "\n",
      "skip ---> ICTAI/exp2/brightkite/deepest/validation/deepest-lstm-100-concat-0-0.5-400-64-1000-20-val_acc-ada-0.001-CCE-{}-True-['day', 'hour', 'poi', 'indexgrid30'].csv\n",
      "\n",
      "skip ---> ICTAI/exp2/brightkite/deepest/validation/deepest-lstm-100-concat-0.5-0.5-50-64-1000-20-val_acc-ada-0.001-CCE-{}-True-['day', 'hour', 'poi', 'indexgrid30'].csv\n",
      "\n",
      "skip ---> ICTAI/exp2/brightkite/deepest/validation/deepest-lstm-100-concat-0.5-0.5-100-64-1000-20-val_acc-ada-0.001-CCE-{}-True-['day', 'hour', 'poi', 'indexgrid30'].csv\n",
      "\n",
      "skip ---> ICTAI/exp2/brightkite/deepest/validation/deepest-lstm-100-concat-0.5-0.5-200-64-1000-20-val_acc-ada-0.001-CCE-{}-True-['day', 'hour', 'poi', 'indexgrid30'].csv\n",
      "\n",
      "skip ---> ICTAI/exp2/brightkite/deepest/validation/deepest-lstm-100-concat-0.5-0.5-300-64-1000-20-val_acc-ada-0.001-CCE-{}-True-['day', 'hour', 'poi', 'indexgrid30'].csv\n",
      "\n",
      "skip ---> ICTAI/exp2/brightkite/deepest/validation/deepest-lstm-100-concat-0.5-0.5-400-64-1000-20-val_acc-ada-0.001-CCE-{}-True-['day', 'hour', 'poi', 'indexgrid30'].csv\n",
      "\n",
      "skip ---> ICTAI/exp2/brightkite/deepest/validation/deepest-lstm-200-concat-0-0.5-50-64-1000-20-val_acc-ada-0.001-CCE-{}-True-['day', 'hour', 'poi', 'indexgrid30'].csv\n",
      "\n",
      "skip ---> ICTAI/exp2/brightkite/deepest/validation/deepest-lstm-200-concat-0-0.5-100-64-1000-20-val_acc-ada-0.001-CCE-{}-True-['day', 'hour', 'poi', 'indexgrid30'].csv\n",
      "\n",
      "skip ---> ICTAI/exp2/brightkite/deepest/validation/deepest-lstm-200-concat-0-0.5-200-64-1000-20-val_acc-ada-0.001-CCE-{}-True-['day', 'hour', 'poi', 'indexgrid30'].csv\n",
      "\n",
      "skip ---> ICTAI/exp2/brightkite/deepest/validation/deepest-lstm-200-concat-0-0.5-300-64-1000-20-val_acc-ada-0.001-CCE-{}-True-['day', 'hour', 'poi', 'indexgrid30'].csv\n",
      "\n",
      "skip ---> ICTAI/exp2/brightkite/deepest/validation/deepest-lstm-200-concat-0-0.5-400-64-1000-20-val_acc-ada-0.001-CCE-{}-True-['day', 'hour', 'poi', 'indexgrid30'].csv\n",
      "\n",
      "skip ---> ICTAI/exp2/brightkite/deepest/validation/deepest-lstm-200-concat-0.5-0.5-50-64-1000-20-val_acc-ada-0.001-CCE-{}-True-['day', 'hour', 'poi', 'indexgrid30'].csv\n",
      "\n",
      "skip ---> ICTAI/exp2/brightkite/deepest/validation/deepest-lstm-200-concat-0.5-0.5-100-64-1000-20-val_acc-ada-0.001-CCE-{}-True-['day', 'hour', 'poi', 'indexgrid30'].csv\n",
      "\n",
      "skip ---> ICTAI/exp2/brightkite/deepest/validation/deepest-lstm-200-concat-0.5-0.5-200-64-1000-20-val_acc-ada-0.001-CCE-{}-True-['day', 'hour', 'poi', 'indexgrid30'].csv\n",
      "\n",
      "skip ---> ICTAI/exp2/brightkite/deepest/validation/deepest-lstm-200-concat-0.5-0.5-300-64-1000-20-val_acc-ada-0.001-CCE-{}-True-['day', 'hour', 'poi', 'indexgrid30'].csv\n",
      "\n",
      "skip ---> ICTAI/exp2/brightkite/deepest/validation/deepest-lstm-200-concat-0.5-0.5-400-64-1000-20-val_acc-ada-0.001-CCE-{}-True-['day', 'hour', 'poi', 'indexgrid30'].csv\n",
      "\n",
      "skip ---> ICTAI/exp2/brightkite/deepest/validation/deepest-lstm-300-concat-0-0.5-50-64-1000-20-val_acc-ada-0.001-CCE-{}-True-['day', 'hour', 'poi', 'indexgrid30'].csv\n",
      "\n",
      "skip ---> ICTAI/exp2/brightkite/deepest/validation/deepest-lstm-300-concat-0-0.5-100-64-1000-20-val_acc-ada-0.001-CCE-{}-True-['day', 'hour', 'poi', 'indexgrid30'].csv\n",
      "\n",
      "skip ---> ICTAI/exp2/brightkite/deepest/validation/deepest-lstm-300-concat-0-0.5-200-64-1000-20-val_acc-ada-0.001-CCE-{}-True-['day', 'hour', 'poi', 'indexgrid30'].csv\n",
      "\n",
      "skip ---> ICTAI/exp2/brightkite/deepest/validation/deepest-lstm-300-concat-0-0.5-300-64-1000-20-val_acc-ada-0.001-CCE-{}-True-['day', 'hour', 'poi', 'indexgrid30'].csv\n",
      "\n",
      "skip ---> ICTAI/exp2/brightkite/deepest/validation/deepest-lstm-300-concat-0-0.5-400-64-1000-20-val_acc-ada-0.001-CCE-{}-True-['day', 'hour', 'poi', 'indexgrid30'].csv\n",
      "\n",
      "skip ---> ICTAI/exp2/brightkite/deepest/validation/deepest-lstm-300-concat-0.5-0.5-50-64-1000-20-val_acc-ada-0.001-CCE-{}-True-['day', 'hour', 'poi', 'indexgrid30'].csv\n",
      "\n",
      "skip ---> ICTAI/exp2/brightkite/deepest/validation/deepest-lstm-300-concat-0.5-0.5-100-64-1000-20-val_acc-ada-0.001-CCE-{}-True-['day', 'hour', 'poi', 'indexgrid30'].csv\n",
      "\n",
      "skip ---> ICTAI/exp2/brightkite/deepest/validation/deepest-lstm-300-concat-0.5-0.5-200-64-1000-20-val_acc-ada-0.001-CCE-{}-True-['day', 'hour', 'poi', 'indexgrid30'].csv\n",
      "\n",
      "skip ---> ICTAI/exp2/brightkite/deepest/validation/deepest-lstm-300-concat-0.5-0.5-300-64-1000-20-val_acc-ada-0.001-CCE-{}-True-['day', 'hour', 'poi', 'indexgrid30'].csv\n",
      "\n",
      "skip ---> ICTAI/exp2/brightkite/deepest/validation/deepest-lstm-300-concat-0.5-0.5-400-64-1000-20-val_acc-ada-0.001-CCE-{}-True-['day', 'hour', 'poi', 'indexgrid30'].csv\n",
      "\n",
      "skip ---> ICTAI/exp2/brightkite/deepest/validation/deepest-lstm-400-concat-0-0.5-50-64-1000-20-val_acc-ada-0.001-CCE-{}-True-['day', 'hour', 'poi', 'indexgrid30'].csv\n",
      "\n",
      "skip ---> ICTAI/exp2/brightkite/deepest/validation/deepest-lstm-400-concat-0-0.5-100-64-1000-20-val_acc-ada-0.001-CCE-{}-True-['day', 'hour', 'poi', 'indexgrid30'].csv\n",
      "\n",
      "skip ---> ICTAI/exp2/brightkite/deepest/validation/deepest-lstm-400-concat-0-0.5-200-64-1000-20-val_acc-ada-0.001-CCE-{}-True-['day', 'hour', 'poi', 'indexgrid30'].csv\n",
      "\n",
      "skip ---> ICTAI/exp2/brightkite/deepest/validation/deepest-lstm-400-concat-0-0.5-300-64-1000-20-val_acc-ada-0.001-CCE-{}-True-['day', 'hour', 'poi', 'indexgrid30'].csv\n",
      "\n",
      "skip ---> ICTAI/exp2/brightkite/deepest/validation/deepest-lstm-400-concat-0-0.5-400-64-1000-20-val_acc-ada-0.001-CCE-{}-True-['day', 'hour', 'poi', 'indexgrid30'].csv\n",
      "\n",
      "skip ---> ICTAI/exp2/brightkite/deepest/validation/deepest-lstm-400-concat-0.5-0.5-50-64-1000-20-val_acc-ada-0.001-CCE-{}-True-['day', 'hour', 'poi', 'indexgrid30'].csv\n",
      "\n",
      "skip ---> ICTAI/exp2/brightkite/deepest/validation/deepest-lstm-400-concat-0.5-0.5-100-64-1000-20-val_acc-ada-0.001-CCE-{}-True-['day', 'hour', 'poi', 'indexgrid30'].csv\n",
      "\n",
      "skip ---> ICTAI/exp2/brightkite/deepest/validation/deepest-lstm-400-concat-0.5-0.5-200-64-1000-20-val_acc-ada-0.001-CCE-{}-True-['day', 'hour', 'poi', 'indexgrid30'].csv\n",
      "\n",
      "skip ---> ICTAI/exp2/brightkite/deepest/validation/deepest-lstm-400-concat-0.5-0.5-300-64-1000-20-val_acc-ada-0.001-CCE-{}-True-['day', 'hour', 'poi', 'indexgrid30'].csv\n",
      "\n",
      "skip ---> ICTAI/exp2/brightkite/deepest/validation/deepest-lstm-400-concat-0.5-0.5-400-64-1000-20-val_acc-ada-0.001-CCE-{}-True-['day', 'hour', 'poi', 'indexgrid30'].csv\n",
      "\n",
      "skip ---> ICTAI/exp2/brightkite/deepest/validation/deepest-lstm-500-concat-0-0.5-50-64-1000-20-val_acc-ada-0.001-CCE-{}-True-['day', 'hour', 'poi', 'indexgrid30'].csv\n",
      "\n",
      "skip ---> ICTAI/exp2/brightkite/deepest/validation/deepest-lstm-500-concat-0-0.5-100-64-1000-20-val_acc-ada-0.001-CCE-{}-True-['day', 'hour', 'poi', 'indexgrid30'].csv\n",
      "\n",
      "skip ---> ICTAI/exp2/brightkite/deepest/validation/deepest-lstm-500-concat-0-0.5-200-64-1000-20-val_acc-ada-0.001-CCE-{}-True-['day', 'hour', 'poi', 'indexgrid30'].csv\n",
      "\n",
      "skip ---> ICTAI/exp2/brightkite/deepest/validation/deepest-lstm-500-concat-0-0.5-300-64-1000-20-val_acc-ada-0.001-CCE-{}-True-['day', 'hour', 'poi', 'indexgrid30'].csv\n",
      "\n",
      "skip ---> ICTAI/exp2/brightkite/deepest/validation/deepest-lstm-500-concat-0-0.5-400-64-1000-20-val_acc-ada-0.001-CCE-{}-True-['day', 'hour', 'poi', 'indexgrid30'].csv\n",
      "\n",
      "skip ---> ICTAI/exp2/brightkite/deepest/validation/deepest-lstm-500-concat-0.5-0.5-50-64-1000-20-val_acc-ada-0.001-CCE-{}-True-['day', 'hour', 'poi', 'indexgrid30'].csv\n",
      "\n",
      "skip ---> ICTAI/exp2/brightkite/deepest/validation/deepest-lstm-500-concat-0.5-0.5-100-64-1000-20-val_acc-ada-0.001-CCE-{}-True-['day', 'hour', 'poi', 'indexgrid30'].csv\n",
      "\n",
      "skip ---> ICTAI/exp2/brightkite/deepest/validation/deepest-lstm-500-concat-0.5-0.5-200-64-1000-20-val_acc-ada-0.001-CCE-{}-True-['day', 'hour', 'poi', 'indexgrid30'].csv\n",
      "\n",
      "skip ---> ICTAI/exp2/brightkite/deepest/validation/deepest-lstm-500-concat-0.5-0.5-300-64-1000-20-val_acc-ada-0.001-CCE-{}-True-['day', 'hour', 'poi', 'indexgrid30'].csv\n",
      "\n",
      "skip ---> ICTAI/exp2/brightkite/deepest/validation/deepest-lstm-500-concat-0.5-0.5-400-64-1000-20-val_acc-ada-0.001-CCE-{}-True-['day', 'hour', 'poi', 'indexgrid30'].csv\n",
      "\n",
      "\n"
     ]
    }
   ],
   "source": [
    "count = 0\n",
    "\n",
    "for c in tqdm(itertools.product(rnn, units, merge_type, dropout_before_rnn, dropout_after_rnn,\\\n",
    "                                embedding_size, batch_size, epochs, patience, monitor, \\\n",
    "                                optimizer, learning_rate, loss, loss_parameters), total=total):\n",
    "    \n",
    "    nn=c[0]\n",
    "    un=c[1]\n",
    "    mt=c[2]\n",
    "    dp_bf=c[3]\n",
    "    dp_af=c[4]\n",
    "    em_s=c[5]\n",
    "    bs=c[6]\n",
    "    epoch=c[7] \n",
    "    pat=c[8] \n",
    "    mon=c[9] \n",
    "    opt=c[10] \n",
    "    lr=c[11]\n",
    "    ls=c[12]\n",
    "    ls_p=c[13]\n",
    "        \n",
    "    filename = dir_file + 'deepest-{}-{}-{}-{}-{}-{}-{}-{}-{}-{}-{}-{}-{}-{}-{}-{}.csv'.format(\\\n",
    "                                                                                    nn, un, mt, dp_bf, dp_af, \\\n",
    "                                                                                    em_s, bs, epoch, pat, mon, \\\n",
    "                                                                                    opt, lr, ls, ls_p, \\\n",
    "                                                                                    y_ohe, features)\n",
    "    count += 1\n",
    "    if not path.exists(dir_file):\n",
    "        print('this directory {} is not exist'.format(dir_file))\n",
    "        break\n",
    "    elif path.exists(filename):\n",
    "        print('skip ---> {}\\n'.format(filename))\n",
    "    else:\n",
    "        print('Creating model...')\n",
    "        print(filename)\n",
    "        \n",
    "        deepest = DST.DeepeST(max_lenght=max_lenght,\n",
    "                    num_classes=num_classes,\n",
    "                    vocab_size = vocab_size,\n",
    "                    rnn=nn,\n",
    "                    rnn_units=un,\n",
    "                    merge_type = mt,\n",
    "                    dropout_before_rnn=dp_bf,\n",
    "                    dropout_after_rnn=dp_af,\n",
    "                    embedding_size = em_s)\n",
    "\n",
    "        deepest.fit(X_train,\n",
    "                    y_train,\n",
    "                    X_val,\n",
    "                    y_val,\n",
    "                    batch_size=bs,\n",
    "                    epochs=epoch,\n",
    "                    monitor=mon,\n",
    "                    min_delta=0,\n",
    "                    patience=pat,\n",
    "                    verbose=0,\n",
    "                    baseline=0.5,\n",
    "                    optimizer=opt,\n",
    "                    learning_rate=lr,\n",
    "                    mode='auto',\n",
    "                    new_metrics=None,\n",
    "                    save_model=False,\n",
    "                    modelname='',\n",
    "                    save_best_only=True,\n",
    "                    save_weights_only=False,\n",
    "                    log_dir=None,\n",
    "                    loss=ls,\n",
    "                    loss_parameters=ls_p)\n",
    "        \n",
    "        validation_report = deepest.predict(X_val, y_val)\n",
    "        validation_report.to_csv(filename, index=False)\n",
    "\n",
    "        deepest.free()\n",
    "\n",
    "#nt.send(\"Training finished-- {} --- {}\\n{}\".format(count, total, datetime.now().strftime(\"%Y-%m-%d %H:%M:%S\")))"
   ]
  },
  {
   "cell_type": "markdown",
   "metadata": {},
   "source": [
    "### Colect Deepest Validation Results"
   ]
  },
  {
   "cell_type": "code",
   "execution_count": 16,
   "metadata": {},
   "outputs": [],
   "source": [
    "files = utils.get_filenames_subdirectories(dir_file)"
   ]
  },
  {
   "cell_type": "code",
   "execution_count": 17,
   "metadata": {},
   "outputs": [
    {
     "data": {
      "text/plain": [
       "\"ICTAI/exp2/brightkite/deepest/validation/deepest-bilstm-100-concat-0-0.5-100-64-1000-20-val_acc-ada-0.001-CCE-{}-True-['day', 'hour', 'poi', 'indexgrid30'].csv\""
      ]
     },
     "execution_count": 17,
     "metadata": {},
     "output_type": "execute_result"
    }
   ],
   "source": [
    "files[0]"
   ]
  },
  {
   "cell_type": "code",
   "execution_count": 18,
   "metadata": {},
   "outputs": [],
   "source": [
    "data = []\n",
    "marksplit = '-'\n",
    "for f in files:\n",
    "    df_ = pd.read_csv(f)\n",
    "    f = f.split('deepest')[-1]\n",
    "    df_['nn']= f.split(marksplit)[1]\n",
    "    df_['un']= f.split(marksplit)[2]\n",
    "    df_['mt']= f.split(marksplit)[3]\n",
    "    df_['dp_bf']= f.split(marksplit)[4]\n",
    "    df_['dp_af']= f.split(marksplit)[5]\n",
    "    df_['em_s']= f.split(marksplit)[6]\n",
    "    df_['bs']= f.split(marksplit)[7]\n",
    "    df_['epch']= f.split(marksplit)[8]\n",
    "    df_['pat']= f.split(marksplit)[9]\n",
    "    df_['mon']= f.split(marksplit)[10]\n",
    "    df_['opt']= f.split(marksplit)[11]\n",
    "    df_['lr']= f.split(marksplit)[12]\n",
    "    df_['ls']= f.split(marksplit)[13]\n",
    "    df_['ls_p']= f.split(marksplit)[14]\n",
    "    #df_['features'] = features\n",
    "    df_['ohe'] = y_one_hot_encodding\n",
    "    \n",
    "    data.append(df_)"
   ]
  },
  {
   "cell_type": "code",
   "execution_count": 19,
   "metadata": {},
   "outputs": [],
   "source": [
    "df_result = pd.concat(data)\n",
    "df_result.reset_index(drop=True, inplace=True)"
   ]
  },
  {
   "cell_type": "code",
   "execution_count": 20,
   "metadata": {},
   "outputs": [
    {
     "data": {
      "text/html": [
       "<div>\n",
       "<style scoped>\n",
       "    .dataframe tbody tr th:only-of-type {\n",
       "        vertical-align: middle;\n",
       "    }\n",
       "\n",
       "    .dataframe tbody tr th {\n",
       "        vertical-align: top;\n",
       "    }\n",
       "\n",
       "    .dataframe thead th {\n",
       "        text-align: right;\n",
       "    }\n",
       "</style>\n",
       "<table border=\"1\" class=\"dataframe\">\n",
       "  <thead>\n",
       "    <tr style=\"text-align: right;\">\n",
       "      <th></th>\n",
       "      <th>balanced_accuracy</th>\n",
       "      <th>precision_macro</th>\n",
       "      <th>recall_macro</th>\n",
       "      <th>f1-macro</th>\n",
       "      <th>nn</th>\n",
       "      <th>un</th>\n",
       "      <th>mt</th>\n",
       "      <th>dp_bf</th>\n",
       "      <th>dp_af</th>\n",
       "      <th>em_s</th>\n",
       "      <th>bs</th>\n",
       "      <th>epch</th>\n",
       "      <th>pat</th>\n",
       "      <th>mon</th>\n",
       "      <th>opt</th>\n",
       "      <th>lr</th>\n",
       "      <th>ls</th>\n",
       "      <th>ls_p</th>\n",
       "      <th>ohe</th>\n",
       "    </tr>\n",
       "  </thead>\n",
       "  <tbody>\n",
       "    <tr>\n",
       "      <th>0</th>\n",
       "      <td>0.960704</td>\n",
       "      <td>0.965916</td>\n",
       "      <td>0.960704</td>\n",
       "      <td>0.958891</td>\n",
       "      <td>bilstm</td>\n",
       "      <td>100</td>\n",
       "      <td>concat</td>\n",
       "      <td>0</td>\n",
       "      <td>0.5</td>\n",
       "      <td>100</td>\n",
       "      <td>64</td>\n",
       "      <td>1000</td>\n",
       "      <td>20</td>\n",
       "      <td>val_acc</td>\n",
       "      <td>ada</td>\n",
       "      <td>0.001</td>\n",
       "      <td>CCE</td>\n",
       "      <td>{}</td>\n",
       "      <td>True</td>\n",
       "    </tr>\n",
       "    <tr>\n",
       "      <th>85</th>\n",
       "      <td>0.960025</td>\n",
       "      <td>0.955842</td>\n",
       "      <td>0.960025</td>\n",
       "      <td>0.954194</td>\n",
       "      <td>lstm</td>\n",
       "      <td>400</td>\n",
       "      <td>concat</td>\n",
       "      <td>0.5</td>\n",
       "      <td>0.5</td>\n",
       "      <td>100</td>\n",
       "      <td>64</td>\n",
       "      <td>1000</td>\n",
       "      <td>20</td>\n",
       "      <td>val_acc</td>\n",
       "      <td>ada</td>\n",
       "      <td>0.001</td>\n",
       "      <td>CCE</td>\n",
       "      <td>{}</td>\n",
       "      <td>True</td>\n",
       "    </tr>\n",
       "    <tr>\n",
       "      <th>42</th>\n",
       "      <td>0.958249</td>\n",
       "      <td>0.955788</td>\n",
       "      <td>0.958249</td>\n",
       "      <td>0.953845</td>\n",
       "      <td>bilstm</td>\n",
       "      <td>500</td>\n",
       "      <td>concat</td>\n",
       "      <td>0</td>\n",
       "      <td>0.5</td>\n",
       "      <td>300</td>\n",
       "      <td>64</td>\n",
       "      <td>1000</td>\n",
       "      <td>20</td>\n",
       "      <td>val_acc</td>\n",
       "      <td>ada</td>\n",
       "      <td>0.001</td>\n",
       "      <td>CCE</td>\n",
       "      <td>{}</td>\n",
       "      <td>True</td>\n",
       "    </tr>\n",
       "    <tr>\n",
       "      <th>95</th>\n",
       "      <td>0.962890</td>\n",
       "      <td>0.969094</td>\n",
       "      <td>0.962890</td>\n",
       "      <td>0.960818</td>\n",
       "      <td>lstm</td>\n",
       "      <td>500</td>\n",
       "      <td>concat</td>\n",
       "      <td>0.5</td>\n",
       "      <td>0.5</td>\n",
       "      <td>100</td>\n",
       "      <td>64</td>\n",
       "      <td>1000</td>\n",
       "      <td>20</td>\n",
       "      <td>val_acc</td>\n",
       "      <td>ada</td>\n",
       "      <td>0.001</td>\n",
       "      <td>CCE</td>\n",
       "      <td>{}</td>\n",
       "      <td>True</td>\n",
       "    </tr>\n",
       "    <tr>\n",
       "      <th>81</th>\n",
       "      <td>0.964340</td>\n",
       "      <td>0.971644</td>\n",
       "      <td>0.964340</td>\n",
       "      <td>0.963672</td>\n",
       "      <td>lstm</td>\n",
       "      <td>400</td>\n",
       "      <td>concat</td>\n",
       "      <td>0</td>\n",
       "      <td>0.5</td>\n",
       "      <td>200</td>\n",
       "      <td>64</td>\n",
       "      <td>1000</td>\n",
       "      <td>20</td>\n",
       "      <td>val_acc</td>\n",
       "      <td>ada</td>\n",
       "      <td>0.001</td>\n",
       "      <td>CCE</td>\n",
       "      <td>{}</td>\n",
       "      <td>True</td>\n",
       "    </tr>\n",
       "  </tbody>\n",
       "</table>\n",
       "</div>"
      ],
      "text/plain": [
       "    balanced_accuracy  precision_macro  recall_macro  f1-macro      nn   un  \\\n",
       "0            0.960704         0.965916      0.960704  0.958891  bilstm  100   \n",
       "85           0.960025         0.955842      0.960025  0.954194    lstm  400   \n",
       "42           0.958249         0.955788      0.958249  0.953845  bilstm  500   \n",
       "95           0.962890         0.969094      0.962890  0.960818    lstm  500   \n",
       "81           0.964340         0.971644      0.964340  0.963672    lstm  400   \n",
       "\n",
       "        mt dp_bf dp_af em_s  bs  epch pat      mon  opt     lr   ls ls_p   ohe  \n",
       "0   concat     0   0.5  100  64  1000  20  val_acc  ada  0.001  CCE   {}  True  \n",
       "85  concat   0.5   0.5  100  64  1000  20  val_acc  ada  0.001  CCE   {}  True  \n",
       "42  concat     0   0.5  300  64  1000  20  val_acc  ada  0.001  CCE   {}  True  \n",
       "95  concat   0.5   0.5  100  64  1000  20  val_acc  ada  0.001  CCE   {}  True  \n",
       "81  concat     0   0.5  200  64  1000  20  val_acc  ada  0.001  CCE   {}  True  "
      ]
     },
     "execution_count": 20,
     "metadata": {},
     "output_type": "execute_result"
    }
   ],
   "source": [
    "df_result.sort_values('acc', ascending=False, inplace=True)\n",
    "df_result.iloc[:5,2:]"
   ]
  },
  {
   "cell_type": "markdown",
   "metadata": {},
   "source": [
    "## Evaluate Model"
   ]
  },
  {
   "cell_type": "code",
   "execution_count": 21,
   "metadata": {},
   "outputs": [],
   "source": [
    "model = 4\n",
    "\n",
    "nn =  df_result.iloc[model]['nn']\n",
    "un =  int(df_result.iloc[model]['un'])\n",
    "mt =  df_result.iloc[model]['mt']\n",
    "dp_bf = float(df_result.iloc[model]['dp_bf'])\n",
    "dp_af = float(df_result.iloc[model]['dp_af'])\n",
    "\n",
    "em_s = int(df_result.iloc[model]['em_s'])\n",
    "\n",
    "bs = int(df_result.iloc[0]['bs'])\n",
    "epoch = int(df_result.iloc[model]['epch'])\n",
    "pat = float(df_result.iloc[model]['pat'])\n",
    "mon = df_result.iloc[model]['mon']\n",
    "\n",
    "opt = df_result.iloc[model]['opt']\n",
    "lr = float(df_result.iloc[0]['lr'])\n",
    "ls = df_result.iloc[model]['ls']\n",
    "ls_p = df_result.iloc[model]['ls_p']\n",
    "\n",
    "y_ohe = y_one_hot_encodding"
   ]
  },
  {
   "cell_type": "code",
   "execution_count": 22,
   "metadata": {},
   "outputs": [],
   "source": [
    "dir_file = 'ICTAI/exp2/{}/deepest/'.format(dataset)"
   ]
  },
  {
   "cell_type": "code",
   "execution_count": 23,
   "metadata": {},
   "outputs": [
    {
     "data": {
      "text/plain": [
       "\"ICTAI/exp2/brightkite/deepest/eval_deepest-lstm-400-concat-0.0-0.5-200-64-1000-20.0-val_acc-ada-0.001-CCE-{}-True-['day', 'hour', 'poi', 'indexgrid30'].csv\""
      ]
     },
     "execution_count": 23,
     "metadata": {},
     "output_type": "execute_result"
    }
   ],
   "source": [
    "filename = dir_file + 'eval_deepest-{}-{}-{}-{}-{}-{}-{}-{}-{}-{}-{}-{}-{}-{}-{}-{}.csv'.format(\\\n",
    "                                                                                nn, un, mt, dp_bf, dp_af, \\\n",
    "                                                                                em_s, bs, epoch, pat, mon, \\\n",
    "                                                                                opt, lr, ls, ls_p, \\\n",
    "                                                                                y_ohe, features)\n",
    "filename"
   ]
  },
  {
   "cell_type": "code",
   "execution_count": null,
   "metadata": {},
   "outputs": [
    {
     "name": "stdout",
     "output_type": "stream",
     "text": [
      "\n",
      "\n",
      "##########           CREATE A DEEPEST MODEL       #########\n",
      "\n",
      "... max_lenght: 150\n",
      "... vocab_size: {'day': 7, 'hour': 24, 'poi': 4085, 'indexgrid30': 3742}\n",
      "... classes: 197\n",
      "... embedding size dictionary is empty\n",
      "... setting embedding size default: 200\n",
      "\n",
      "\n",
      "#######         DATA TO MODEL CREATION       #######\n",
      "\n",
      "... features to input: ['day', 'hour', 'poi', 'indexgrid30']\n",
      "... embedding_size: {'day': 200, 'hour': 200, 'poi': 200, 'indexgrid30': 200}\n",
      "... max_lenght: 150\n",
      "\n",
      "\n",
      "###########      Building Input and Embedding Layers      ###########\n"
     ]
    },
    {
     "data": {
      "application/vnd.jupyter.widget-view+json": {
       "model_id": "b234e3c3f8ac416fbcefa67832059ba5",
       "version_major": 2,
       "version_minor": 0
      },
      "text/plain": [
       "HBox(children=(FloatProgress(value=0.0, max=4.0), HTML(value='')))"
      ]
     },
     "metadata": {},
     "output_type": "display_data"
    },
    {
     "name": "stdout",
     "output_type": "stream",
     "text": [
      "... creating layer to column : day\n",
      "... vocab_size to column day: 7\n",
      "... creating layer to column : hour\n",
      "... vocab_size to column hour: 24\n",
      "... creating layer to column : poi\n",
      "... vocab_size to column poi: 4085\n",
      "... creating layer to column : indexgrid30\n",
      "... vocab_size to column indexgrid30: 3742\n",
      "\n",
      "... defining merge type on embedding as concat\n",
      "... creating a dropout Layer before RNN using 0.0\n",
      "\n",
      "\n",
      "###### Creating a recurrent neural network ####\n",
      "\n",
      "... creating a LSTM\n",
      "... creating a dropout Layer after RNN using 0.5\n",
      "... a deepest model was built\n",
      "\n",
      "--------------------------------------\n",
      "\n",
      "total Time: 0.696908712387085\n",
      "\n",
      "\n",
      "##########      FIT DEEPEST MODEL       ##########\n",
      "... sparse categorical_crossentropy was selected\n",
      "... Optimizer was setting as Adam\n",
      "\n",
      "\n",
      "########      Compiling DeepeST Model    #########\n",
      "... Defining checkpoint\n",
      "... Starting training\n"
     ]
    },
    {
     "name": "stderr",
     "output_type": "stream",
     "text": [
      "/home/nicksson/miniconda3/envs/tnz/lib/python3.7/site-packages/tensorflow_core/python/framework/indexed_slices.py:433: UserWarning: Converting sparse IndexedSlices to a dense Tensor of unknown shape. This may consume a large amount of memory.\n",
      "  \"Converting sparse IndexedSlices to a dense Tensor of unknown shape. \"\n"
     ]
    },
    {
     "name": "stdout",
     "output_type": "stream",
     "text": [
      "Train on 4652 samples, validate on 997 samples\n",
      "Epoch 1/1000\n",
      "4652/4652 [==============================] - 8s 2ms/step - loss: 67.0748 - acc: 0.3534 - sparse_top_k_categorical_accuracy: 0.4875 - val_loss: 5.4184 - val_acc: 0.8114 - val_sparse_top_k_categorical_accuracy: 0.8967\n",
      "Epoch 2/1000\n",
      "4652/4652 [==============================] - 7s 2ms/step - loss: 2.7963 - acc: 0.9304 - sparse_top_k_categorical_accuracy: 0.9744 - val_loss: 2.2525 - val_acc: 0.9539 - val_sparse_top_k_categorical_accuracy: 0.9829\n",
      "Epoch 3/1000\n",
      "4652/4652 [==============================] - 7s 2ms/step - loss: 1.7998 - acc: 0.9740 - sparse_top_k_categorical_accuracy: 0.9953 - val_loss: 1.8300 - val_acc: 0.9549 - val_sparse_top_k_categorical_accuracy: 0.9799\n",
      "Epoch 4/1000\n",
      "4652/4652 [==============================] - 7s 2ms/step - loss: 1.6400 - acc: 0.9802 - sparse_top_k_categorical_accuracy: 0.9976 - val_loss: 1.7257 - val_acc: 0.9619 - val_sparse_top_k_categorical_accuracy: 0.9829\n",
      "Epoch 5/1000\n",
      "4652/4652 [==============================] - 7s 2ms/step - loss: 1.5973 - acc: 0.9832 - sparse_top_k_categorical_accuracy: 0.9981 - val_loss: 1.7498 - val_acc: 0.9619 - val_sparse_top_k_categorical_accuracy: 0.9840\n",
      "Epoch 6/1000\n",
      "4652/4652 [==============================] - 7s 2ms/step - loss: 1.5684 - acc: 0.9869 - sparse_top_k_categorical_accuracy: 0.9985 - val_loss: 1.6787 - val_acc: 0.9639 - val_sparse_top_k_categorical_accuracy: 0.9870\n",
      "Epoch 7/1000\n",
      "4652/4652 [==============================] - 7s 2ms/step - loss: 1.5284 - acc: 0.9880 - sparse_top_k_categorical_accuracy: 0.9994 - val_loss: 1.6893 - val_acc: 0.9639 - val_sparse_top_k_categorical_accuracy: 0.9850\n",
      "Epoch 8/1000\n",
      "4652/4652 [==============================] - 8s 2ms/step - loss: 1.5225 - acc: 0.9873 - sparse_top_k_categorical_accuracy: 0.9996 - val_loss: 1.6773 - val_acc: 0.9619 - val_sparse_top_k_categorical_accuracy: 0.9819\n",
      "Epoch 9/1000\n",
      "4652/4652 [==============================] - 7s 2ms/step - loss: 1.5001 - acc: 0.9886 - sparse_top_k_categorical_accuracy: 0.9994 - val_loss: 1.6938 - val_acc: 0.9629 - val_sparse_top_k_categorical_accuracy: 0.9870\n",
      "Epoch 10/1000\n",
      "4652/4652 [==============================] - 7s 2ms/step - loss: 1.4941 - acc: 0.9880 - sparse_top_k_categorical_accuracy: 0.9996 - val_loss: 1.6605 - val_acc: 0.9649 - val_sparse_top_k_categorical_accuracy: 0.9829\n",
      "Epoch 11/1000\n",
      "4652/4652 [==============================] - 7s 2ms/step - loss: 1.5007 - acc: 0.9888 - sparse_top_k_categorical_accuracy: 0.9996 - val_loss: 1.6530 - val_acc: 0.9649 - val_sparse_top_k_categorical_accuracy: 0.9850\n",
      "Epoch 12/1000\n",
      "4652/4652 [==============================] - 7s 2ms/step - loss: 1.4577 - acc: 0.9916 - sparse_top_k_categorical_accuracy: 1.0000 - val_loss: 1.6413 - val_acc: 0.9589 - val_sparse_top_k_categorical_accuracy: 0.9870\n",
      "Epoch 13/1000\n",
      "4652/4652 [==============================] - 7s 2ms/step - loss: 1.4550 - acc: 0.9927 - sparse_top_k_categorical_accuracy: 0.9998 - val_loss: 1.6298 - val_acc: 0.9609 - val_sparse_top_k_categorical_accuracy: 0.9850\n",
      "Epoch 14/1000\n",
      "4652/4652 [==============================] - 7s 2ms/step - loss: 1.4510 - acc: 0.9942 - sparse_top_k_categorical_accuracy: 1.0000 - val_loss: 1.6025 - val_acc: 0.9609 - val_sparse_top_k_categorical_accuracy: 0.9819\n",
      "Epoch 15/1000\n",
      "4652/4652 [==============================] - 7s 2ms/step - loss: 1.4285 - acc: 0.9944 - sparse_top_k_categorical_accuracy: 1.0000 - val_loss: 1.6239 - val_acc: 0.9609 - val_sparse_top_k_categorical_accuracy: 0.9840\n",
      "Epoch 16/1000\n",
      "4652/4652 [==============================] - 7s 2ms/step - loss: 1.4302 - acc: 0.9946 - sparse_top_k_categorical_accuracy: 1.0000 - val_loss: 1.6216 - val_acc: 0.9609 - val_sparse_top_k_categorical_accuracy: 0.9829\n",
      "Epoch 17/1000\n",
      "4652/4652 [==============================] - 8s 2ms/step - loss: 1.4309 - acc: 0.9942 - sparse_top_k_categorical_accuracy: 1.0000 - val_loss: 1.5996 - val_acc: 0.9619 - val_sparse_top_k_categorical_accuracy: 0.9840\n",
      "Epoch 18/1000\n",
      "4652/4652 [==============================] - 8s 2ms/step - loss: 1.4371 - acc: 0.9948 - sparse_top_k_categorical_accuracy: 1.0000 - val_loss: 1.6939 - val_acc: 0.9599 - val_sparse_top_k_categorical_accuracy: 0.9819\n",
      "Epoch 19/1000\n",
      "4652/4652 [==============================] - 7s 2ms/step - loss: 1.4493 - acc: 0.9946 - sparse_top_k_categorical_accuracy: 1.0000 - val_loss: 1.6359 - val_acc: 0.9589 - val_sparse_top_k_categorical_accuracy: 0.9840\n",
      "Epoch 20/1000\n",
      "4652/4652 [==============================] - 7s 2ms/step - loss: 1.4297 - acc: 0.9946 - sparse_top_k_categorical_accuracy: 1.0000 - val_loss: 1.6247 - val_acc: 0.9609 - val_sparse_top_k_categorical_accuracy: 0.9789\n",
      "Epoch 21/1000\n",
      "4652/4652 [==============================] - 7s 2ms/step - loss: 1.4092 - acc: 0.9963 - sparse_top_k_categorical_accuracy: 1.0000 - val_loss: 1.6333 - val_acc: 0.9589 - val_sparse_top_k_categorical_accuracy: 0.9809\n",
      "Epoch 22/1000\n",
      "4652/4652 [==============================] - 7s 2ms/step - loss: 1.4110 - acc: 0.9957 - sparse_top_k_categorical_accuracy: 1.0000 - val_loss: 1.6617 - val_acc: 0.9569 - val_sparse_top_k_categorical_accuracy: 0.9819\n",
      "Epoch 23/1000\n",
      "4652/4652 [==============================] - 7s 2ms/step - loss: 1.4141 - acc: 0.9963 - sparse_top_k_categorical_accuracy: 1.0000 - val_loss: 1.6385 - val_acc: 0.9579 - val_sparse_top_k_categorical_accuracy: 0.9779\n",
      "Epoch 24/1000\n",
      "4652/4652 [==============================] - 7s 2ms/step - loss: 1.4176 - acc: 0.9953 - sparse_top_k_categorical_accuracy: 1.0000 - val_loss: 1.6279 - val_acc: 0.9589 - val_sparse_top_k_categorical_accuracy: 0.9829\n",
      "Epoch 25/1000\n",
      "3840/4652 [=======================>......] - ETA: 1s - loss: 1.4122 - acc: 0.9964 - sparse_top_k_categorical_accuracy: 1.0000"
     ]
    }
   ],
   "source": [
    "deepest = DST.DeepeST(max_lenght=max_lenght,\n",
    "            num_classes=num_classes,\n",
    "            vocab_size = vocab_size,\n",
    "            rnn=nn,\n",
    "            rnn_units=un,\n",
    "            merge_type = mt,\n",
    "            dropout_before_rnn=dp_bf,\n",
    "            dropout_after_rnn=dp_af,\n",
    "            embedding_size = em_s)\n",
    "\n",
    "deepest.fit(X_train,\n",
    "            y_train,\n",
    "            X_val,\n",
    "            y_val,\n",
    "            batch_size=bs,\n",
    "            epochs=epoch,\n",
    "            monitor=mon,\n",
    "            min_delta=0,\n",
    "            patience=pat,\n",
    "            verbose=0,\n",
    "            baseline=0.5,\n",
    "            optimizer=opt,\n",
    "            learning_rate=lr,\n",
    "            mode='auto',\n",
    "            new_metrics=None,\n",
    "            save_model=False,\n",
    "            modelname='',\n",
    "            save_best_only=True,\n",
    "            save_weights_only=False,\n",
    "            log_dir=None,\n",
    "            loss=ls,\n",
    "            loss_parameters={})\n",
    "evaluate_report = deepest.predict(X_test, y_test)\n",
    "evaluate_report.to_csv(filename, index=False)\n",
    "\n",
    "deepest.free()"
   ]
  },
  {
   "cell_type": "code",
   "execution_count": null,
   "metadata": {},
   "outputs": [],
   "source": [
    "evaluate_report"
   ]
  },
  {
   "cell_type": "markdown",
   "metadata": {},
   "source": [
    "## 5. Experiment differents features"
   ]
  },
  {
   "cell_type": "markdown",
   "metadata": {},
   "source": [
    "### Generation profile"
   ]
  },
  {
   "cell_type": "code",
   "execution_count": null,
   "metadata": {},
   "outputs": [],
   "source": [
    "# profile = ProfileReport(df_train[col], title=dataset,html={'style':{'full_width':True}})\n",
    "# profile.to_file('unbalanced dataset/{}_Report_.html'.format(dataset))"
   ]
  },
  {
   "cell_type": "markdown",
   "metadata": {},
   "source": [
    "### Correlation"
   ]
  },
  {
   "cell_type": "code",
   "execution_count": null,
   "metadata": {},
   "outputs": [],
   "source": [
    "# correlacao = df_train[col].corr()\n",
    "# fig_curr = plt.figure(figsize=(16,6))\n",
    "# sns.heatmap(data=correlacao, annot=True)\n",
    "# #fig_curr.savefig('unbalanced dataset/{}_correlação_.png'.format(dataset))"
   ]
  },
  {
   "cell_type": "markdown",
   "metadata": {},
   "source": [
    "# \"ERRO QUANDO CHEGA NO PATIENTE E NÃO CHEGA AO VALOR DO BASELINE\""
   ]
  },
  {
   "cell_type": "markdown",
   "metadata": {},
   "source": [
    "### Visualize on TensorBoard"
   ]
  },
  {
   "cell_type": "code",
   "execution_count": null,
   "metadata": {},
   "outputs": [],
   "source": [
    "#load tensoboard extension\n",
    "%load_ext tensorboard"
   ]
  },
  {
   "cell_type": "code",
   "execution_count": null,
   "metadata": {},
   "outputs": [],
   "source": [
    "%tensorboard --logdir logs"
   ]
  },
  {
   "cell_type": "code",
   "execution_count": null,
   "metadata": {},
   "outputs": [],
   "source": []
  },
  {
   "cell_type": "code",
   "execution_count": null,
   "metadata": {},
   "outputs": [],
   "source": [
    "# X_train_marc = load('/home/nickssonarrais/Git/petry-2020-marc/cls_x_train.gz')\n",
    "# X_test_marc = load('/home/nickssonarrais/Git/petry-2020-marc/cls_x_test.gz')\n",
    "# y_train_marc = load('/home/nickssonarrais/Git/petry-2020-marc/cls_y_train.gz')\n",
    "# y_test_marc = load('/home/nickssonarrais/Git/petry-2020-marc/cls_y_test.gz')\n",
    "# #deepest.X_train = X_train_marc\n",
    "# #deepest.X_test = X_test_marc\n",
    "# #deepest.y_train = y_train_marc\n",
    "# #deepest.y_test = y_test_marc"
   ]
  },
  {
   "cell_type": "markdown",
   "metadata": {},
   "source": [
    "### Split Training, Validation and Test"
   ]
  },
  {
   "cell_type": "code",
   "execution_count": null,
   "metadata": {},
   "outputs": [],
   "source": [
    "train_test = train_test_split(df['tid'].to_numpy(), test_size=0.3)\n",
    "tid_train = train_test[0]\n",
    "val_test = test_val[1]\n",
    "test_val = train_test_split(val_test, test_size=0.5)\n",
    "tid_val = test_val[0]\n",
    "tid_test = test_val[1]\n",
    "df_train = df[df['tid'].isin(tid_train)]\n",
    "df_val = df[df['tid'].isin(tid_val)]\n",
    "df_test = df[df['tid'].isin(tid_test)]\n",
    "print(df_train.shape)\n",
    "print(df_val.shape)\n",
    "print(df_test.shape)"
   ]
  },
  {
   "cell_type": "markdown",
   "metadata": {},
   "source": [
    "### Plot training and Test"
   ]
  },
  {
   "cell_type": "code",
   "execution_count": null,
   "metadata": {},
   "outputs": [],
   "source": [
    "label_segment='tid'\n",
    "label_y= 'label'\n",
    "tid = df.groupby(label_segment, as_index=False).agg({label_y:'first'})#.groupby(label_y).agg({label_segment:'count'}).sort_values(label_segment, ascending=False).rename(columns={label_segment:label_y}).reset_index(drop=True)\n",
    "counts = tid['label'].value_counts()\n",
    "imbalance_ratio = round(counts.max()/ counts.min(), 2)\n",
    "print(\"imbalance ratio: {}\".format(imbalance_ratio))\n",
    "train = tid[tid['tid'].isin(df_train['tid'].unique())].groupby(label_y).agg({label_segment:'count'}).sort_values(label_segment, ascending=False).rename(columns={label_segment:label_y}).reset_index(drop=True)\n",
    "#val = test = tid[tid['tid'].isin(df_val['tid'].unique())].groupby(label_y).agg({label_segment:'count'}).sort_values(label_segment, ascending=False).rename(columns={label_segment:label_y}).reset_index(drop=True) \n",
    "test = tid[tid['tid'].isin(df_test['tid'].unique())].groupby(label_y).agg({label_segment:'count'}).sort_values(label_segment, ascending=False).rename(columns={label_segment:label_y}).reset_index(drop=True)\n",
    "\n",
    "perc_train = (train[label_y]/train[label_y].sum()) * 100\n",
    "#perc_val= (val[label_y]/val[label_y].sum()) * 100\n",
    "perc_test = (test[label_y]/test[label_y].sum()) * 100\n",
    "\n",
    "fig, ax = plt.subplots(1,3,figsize=(20,5))\n",
    "perc_train.plot(ax=ax[0], grid=True, color='b')\n",
    "#perc_val.plot(ax=ax[1], grid=True, color='b')\n",
    "perc_test.plot(ax=ax[2], grid=True, color='b')\n",
    "ax[0].grid(color='gray', linestyle='-', linewidth=1)\n",
    "ax[0].set_facecolor('GhostWhite')\n",
    "ax[0].set_ylabel('% Label Count')\n",
    "ax[0].set_xlabel('Label id')\n",
    "ax[0].set_title('Traning Set    --  IR: {}'.format(imbalance_ratio))\n",
    "# ax[1].grid(color='gray', linestyle='-', linewidth=1)\n",
    "# ax[1].set_facecolor('GhostWhite')\n",
    "# ax[1].set_ylabel('% Label Count')\n",
    "# ax[1].set_xlabel('Label id')\n",
    "# ax[1].set_title('Validation Set   -- IR: {}'.format(imbalance_ratio))\n",
    "ax[2].grid(color='gray', linestyle='-', linewidth=1)\n",
    "ax[2].set_facecolor('GhostWhite')\n",
    "ax[2].set_ylabel('% Label Count')\n",
    "ax[2].set_xlabel('Label id')\n",
    "ax[2].set_title('Test Set   -- IR: {}'.format(imbalance_ratio))\n",
    "fig.savefig('data/{}_count_label.png'.format(dataset))"
   ]
  }
 ],
 "metadata": {
  "kernelspec": {
   "display_name": "Python 3",
   "language": "python",
   "name": "python3"
  },
  "language_info": {
   "codemirror_mode": {
    "name": "ipython",
    "version": 3
   },
   "file_extension": ".py",
   "mimetype": "text/x-python",
   "name": "python",
   "nbconvert_exporter": "python",
   "pygments_lexer": "ipython3",
   "version": "3.7.7"
  }
 },
 "nbformat": 4,
 "nbformat_minor": 2
}
